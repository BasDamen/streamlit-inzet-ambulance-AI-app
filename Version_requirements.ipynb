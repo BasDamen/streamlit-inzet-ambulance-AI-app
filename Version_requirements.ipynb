{
 "cells": [
  {
   "cell_type": "code",
   "execution_count": null,
   "metadata": {},
   "outputs": [
    {
     "name": "stdout",
     "output_type": "stream",
     "text": [
      "Streamlit version: 1.39.0\n",
      "Pandas version: 2.2.2\n",
      "Joblib version: 1.4.2\n",
      "Lime version: lime\n",
      "Numpy version: 1.26.4\n",
      "Scikit-learn version: 1.5.1\n",
      "Matplotlib version: 3.9.2\n",
      "Openpyxl version: 3.1.5\n",
      "Scipy version: 1.14.1\n",
      "Setuptools version: 65.5.0\n",
      "Wheel version: 0.44.0\n"
     ]
    }
   ],
   "source": [
    "import streamlit as st\n",
    "import pandas as pd\n",
    "import joblib\n",
    "from lime.lime_tabular import LimeTabularExplainer\n",
    "import numpy as np\n",
    "import sklearn \n",
    "import matplotlib\n",
    "import urllib.request\n",
    "import openpyxl \n",
    "import scipy \n",
    "import setuptools \n",
    "import wheel  \n",
    "\n",
    "# Print de versie van elke geïmporteerde bibliotheek\n",
    "print(\"Streamlit version:\", st.__version__)\n",
    "print(\"Pandas version:\", pd.__version__)\n",
    "print(\"Joblib version:\", joblib.__version__)\n",
    "print(\"Lime version:\", LimeTabularExplainer.__module__.split('.')[0])  \n",
    "print(\"Numpy version:\", np.__version__)\n",
    "print(\"Scikit-learn version:\", sklearn.__version__) \n",
    "print(\"Matplotlib version:\", matplotlib.__version__)  \n",
    "print(\"Openpyxl version:\", openpyxl.__version__)  \n",
    "print(\"Scipy version:\", scipy.__version__)  \n",
    "print(\"Setuptools version:\", setuptools.__version__)  \n",
    "print(\"Wheel version:\", wheel.__version__)  \n"
   ]
  }
 ],
 "metadata": {
  "kernelspec": {
   "display_name": "Python 3",
   "language": "python",
   "name": "python3"
  },
  "language_info": {
   "codemirror_mode": {
    "name": "ipython",
    "version": 3
   },
   "file_extension": ".py",
   "mimetype": "text/x-python",
   "name": "python",
   "nbconvert_exporter": "python",
   "pygments_lexer": "ipython3",
   "version": "3.11.9"
  }
 },
 "nbformat": 4,
 "nbformat_minor": 2
}
